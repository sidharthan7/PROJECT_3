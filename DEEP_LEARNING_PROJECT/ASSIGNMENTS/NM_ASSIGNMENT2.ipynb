{
  "nbformat": 4,
  "nbformat_minor": 0,
  "metadata": {
    "colab": {
      "provenance": []
    },
    "kernelspec": {
      "name": "python3",
      "display_name": "Python 3"
    },
    "language_info": {
      "name": "python"
    }
  },
  "cells": [
    {
      "cell_type": "code",
      "execution_count": 1,
      "metadata": {
        "id": "z99y4omiTpmm"
      },
      "outputs": [],
      "source": [
        "import numpy as np\n",
        "import pandas as pd"
      ]
    },
    {
      "cell_type": "code",
      "source": [
        "df=pd.read_csv('House Price India.csv')"
      ],
      "metadata": {
        "id": "-bSIatIXTyzP"
      },
      "execution_count": 2,
      "outputs": []
    },
    {
      "cell_type": "code",
      "source": [
        "df.info()"
      ],
      "metadata": {
        "colab": {
          "base_uri": "https://localhost:8080/"
        },
        "id": "UPpPWLXoT5G-",
        "outputId": "39802b30-cf82-448f-d9b9-b27960ca8fa7"
      },
      "execution_count": 3,
      "outputs": [
        {
          "output_type": "stream",
          "name": "stdout",
          "text": [
            "<class 'pandas.core.frame.DataFrame'>\n",
            "RangeIndex: 14620 entries, 0 to 14619\n",
            "Data columns (total 23 columns):\n",
            " #   Column                                 Non-Null Count  Dtype  \n",
            "---  ------                                 --------------  -----  \n",
            " 0   id                                     14620 non-null  int64  \n",
            " 1   Date                                   14620 non-null  int64  \n",
            " 2   number of bedrooms                     14620 non-null  int64  \n",
            " 3   number of bathrooms                    14620 non-null  float64\n",
            " 4   living area                            14620 non-null  int64  \n",
            " 5   lot area                               14620 non-null  int64  \n",
            " 6   number of floors                       14620 non-null  float64\n",
            " 7   waterfront present                     14620 non-null  int64  \n",
            " 8   number of views                        14620 non-null  int64  \n",
            " 9   condition of the house                 14620 non-null  int64  \n",
            " 10  grade of the house                     14620 non-null  int64  \n",
            " 11  Area of the house(excluding basement)  14620 non-null  int64  \n",
            " 12  Area of the basement                   14620 non-null  int64  \n",
            " 13  Built Year                             14620 non-null  int64  \n",
            " 14  Renovation Year                        14620 non-null  int64  \n",
            " 15  Postal Code                            14620 non-null  int64  \n",
            " 16  Lattitude                              14620 non-null  float64\n",
            " 17  Longitude                              14620 non-null  float64\n",
            " 18  living_area_renov                      14620 non-null  int64  \n",
            " 19  lot_area_renov                         14620 non-null  int64  \n",
            " 20  Number of schools nearby               14620 non-null  int64  \n",
            " 21  Distance from the airport              14620 non-null  int64  \n",
            " 22  Price                                  14620 non-null  int64  \n",
            "dtypes: float64(4), int64(19)\n",
            "memory usage: 2.6 MB\n"
          ]
        }
      ]
    },
    {
      "cell_type": "markdown",
      "source": [
        "**NO NULL CONTENTS**"
      ],
      "metadata": {
        "id": "N4dG_RHQT9pZ"
      }
    },
    {
      "cell_type": "code",
      "source": [
        "df.isnull().sum()"
      ],
      "metadata": {
        "colab": {
          "base_uri": "https://localhost:8080/"
        },
        "id": "U4xK-HmyT7Bt",
        "outputId": "6b0f1ce0-1f0b-4c5e-b6e2-fd5235560139"
      },
      "execution_count": 4,
      "outputs": [
        {
          "output_type": "execute_result",
          "data": {
            "text/plain": [
              "id                                       0\n",
              "Date                                     0\n",
              "number of bedrooms                       0\n",
              "number of bathrooms                      0\n",
              "living area                              0\n",
              "lot area                                 0\n",
              "number of floors                         0\n",
              "waterfront present                       0\n",
              "number of views                          0\n",
              "condition of the house                   0\n",
              "grade of the house                       0\n",
              "Area of the house(excluding basement)    0\n",
              "Area of the basement                     0\n",
              "Built Year                               0\n",
              "Renovation Year                          0\n",
              "Postal Code                              0\n",
              "Lattitude                                0\n",
              "Longitude                                0\n",
              "living_area_renov                        0\n",
              "lot_area_renov                           0\n",
              "Number of schools nearby                 0\n",
              "Distance from the airport                0\n",
              "Price                                    0\n",
              "dtype: int64"
            ]
          },
          "metadata": {},
          "execution_count": 4
        }
      ]
    },
    {
      "cell_type": "code",
      "source": [
        "from sklearn.preprocessing import LabelEncoder\n",
        "le = LabelEncoder()"
      ],
      "metadata": {
        "id": "SQVdoD3LUIvC"
      },
      "execution_count": 6,
      "outputs": []
    },
    {
      "cell_type": "code",
      "source": [
        "from sklearn.model_selection import train_test_split"
      ],
      "metadata": {
        "id": "WlF3OvbsUMSh"
      },
      "execution_count": 7,
      "outputs": []
    },
    {
      "cell_type": "code",
      "source": [
        "x = df.drop('Price',axis=1)\n",
        "x.head"
      ],
      "metadata": {
        "colab": {
          "base_uri": "https://localhost:8080/"
        },
        "id": "VBrQTka-UN6b",
        "outputId": "2e49f20c-7932-4a24-a2f9-533420ee933f"
      },
      "execution_count": 8,
      "outputs": [
        {
          "output_type": "execute_result",
          "data": {
            "text/plain": [
              "<bound method NDFrame.head of                id   Date  number of bedrooms  number of bathrooms  \\\n",
              "0      6762810145  42491                   5                 2.50   \n",
              "1      6762810635  42491                   4                 2.50   \n",
              "2      6762810998  42491                   5                 2.75   \n",
              "3      6762812605  42491                   4                 2.50   \n",
              "4      6762812919  42491                   3                 2.00   \n",
              "...           ...    ...                 ...                  ...   \n",
              "14615  6762830250  42734                   2                 1.50   \n",
              "14616  6762830339  42734                   3                 2.00   \n",
              "14617  6762830618  42734                   2                 1.00   \n",
              "14618  6762830709  42734                   4                 1.00   \n",
              "14619  6762831463  42734                   3                 1.00   \n",
              "\n",
              "       living area  lot area  number of floors  waterfront present  \\\n",
              "0             3650      9050               2.0                   0   \n",
              "1             2920      4000               1.5                   0   \n",
              "2             2910      9480               1.5                   0   \n",
              "3             3310     42998               2.0                   0   \n",
              "4             2710      4500               1.5                   0   \n",
              "...            ...       ...               ...                 ...   \n",
              "14615         1556     20000               1.0                   0   \n",
              "14616         1680      7000               1.5                   0   \n",
              "14617         1070      6120               1.0                   0   \n",
              "14618         1030      6621               1.0                   0   \n",
              "14619          900      4770               1.0                   0   \n",
              "\n",
              "       number of views  condition of the house  ...  Area of the basement  \\\n",
              "0                    4                       5  ...                   280   \n",
              "1                    0                       5  ...                  1010   \n",
              "2                    0                       3  ...                     0   \n",
              "3                    0                       3  ...                     0   \n",
              "4                    0                       4  ...                   830   \n",
              "...                ...                     ...  ...                   ...   \n",
              "14615                0                       4  ...                     0   \n",
              "14616                0                       4  ...                     0   \n",
              "14617                0                       3  ...                     0   \n",
              "14618                0                       4  ...                     0   \n",
              "14619                0                       3  ...                     0   \n",
              "\n",
              "       Built Year  Renovation Year  Postal Code  Lattitude  Longitude  \\\n",
              "0            1921                0       122003    52.8645   -114.557   \n",
              "1            1909                0       122004    52.8878   -114.470   \n",
              "2            1939                0       122004    52.8852   -114.468   \n",
              "3            2001                0       122005    52.9532   -114.321   \n",
              "4            1929                0       122006    52.9047   -114.485   \n",
              "...           ...              ...          ...        ...        ...   \n",
              "14615        1957                0       122066    52.6191   -114.472   \n",
              "14616        1968                0       122072    52.5075   -114.393   \n",
              "14617        1962                0       122056    52.7289   -114.507   \n",
              "14618        1955                0       122042    52.7157   -114.411   \n",
              "14619        1969             2009       122018    52.5338   -114.552   \n",
              "\n",
              "       living_area_renov  lot_area_renov  Number of schools nearby  \\\n",
              "0                   2880            5400                         2   \n",
              "1                   2470            4000                         2   \n",
              "2                   2940            6600                         1   \n",
              "3                   3350           42847                         3   \n",
              "4                   2060            4500                         1   \n",
              "...                  ...             ...                       ...   \n",
              "14615               2250           17286                         3   \n",
              "14616               1540            7480                         3   \n",
              "14617               1130            6120                         2   \n",
              "14618               1420            6631                         3   \n",
              "14619                900            3480                         2   \n",
              "\n",
              "       Distance from the airport  \n",
              "0                             58  \n",
              "1                             51  \n",
              "2                             53  \n",
              "3                             76  \n",
              "4                             51  \n",
              "...                          ...  \n",
              "14615                         76  \n",
              "14616                         59  \n",
              "14617                         64  \n",
              "14618                         54  \n",
              "14619                         55  \n",
              "\n",
              "[14620 rows x 22 columns]>"
            ]
          },
          "metadata": {},
          "execution_count": 8
        }
      ]
    },
    {
      "cell_type": "code",
      "source": [
        "y=df['Price']\n",
        "y"
      ],
      "metadata": {
        "colab": {
          "base_uri": "https://localhost:8080/"
        },
        "id": "fBPzKB37UPz6",
        "outputId": "35029cd2-fe64-4520-89b8-ca55b864ea57"
      },
      "execution_count": 9,
      "outputs": [
        {
          "output_type": "execute_result",
          "data": {
            "text/plain": [
              "0        2380000\n",
              "1        1400000\n",
              "2        1200000\n",
              "3         838000\n",
              "4         805000\n",
              "          ...   \n",
              "14615     221700\n",
              "14616     219200\n",
              "14617     209000\n",
              "14618     205000\n",
              "14619     146000\n",
              "Name: Price, Length: 14620, dtype: int64"
            ]
          },
          "metadata": {},
          "execution_count": 9
        }
      ]
    },
    {
      "cell_type": "code",
      "source": [
        "xtrain,xtest,ytrain,ytest = train_test_split(x,y,test_size=0.2,random_state=12)"
      ],
      "metadata": {
        "id": "upWruZSNUSsR"
      },
      "execution_count": 10,
      "outputs": []
    },
    {
      "cell_type": "code",
      "source": [
        "from tensorflow.keras.models import Sequential\n",
        "from tensorflow.keras.layers import Dense"
      ],
      "metadata": {
        "id": "1NWM5MF2UVHa"
      },
      "execution_count": 11,
      "outputs": []
    },
    {
      "cell_type": "markdown",
      "source": [
        "**MODEL WITH 2 HIDDEN LAYERS**"
      ],
      "metadata": {
        "id": "C72iw6aSUXwK"
      }
    },
    {
      "cell_type": "code",
      "source": [
        "reg = Sequential()\n",
        "reg.add(Dense(4,activation='relu'))\n",
        "reg.add(Dense(12,activation='relu'))\n",
        "reg.add(Dense(1,activation='linear'))"
      ],
      "metadata": {
        "id": "g5v-XiZ3UXG4"
      },
      "execution_count": 12,
      "outputs": []
    },
    {
      "cell_type": "code",
      "source": [
        "reg.compile(optimizer='adam',loss='mse',metrics=['mse'])"
      ],
      "metadata": {
        "id": "Trbi3o7wUi8K"
      },
      "execution_count": 13,
      "outputs": []
    },
    {
      "cell_type": "code",
      "source": [
        "reg.fit(xtrain,ytrain,batch_size=10,epochs=25,validation_data=(xtest,ytest))"
      ],
      "metadata": {
        "colab": {
          "base_uri": "https://localhost:8080/"
        },
        "id": "0EhhrgL2UlCL",
        "outputId": "f71a1b07-3ea9-42be-defc-d89a5423811c"
      },
      "execution_count": 14,
      "outputs": [
        {
          "output_type": "stream",
          "name": "stdout",
          "text": [
            "Epoch 1/25\n",
            "1170/1170 [==============================] - 3s 2ms/step - loss: 60826662580781056.0000 - mse: 60826662580781056.0000 - val_loss: 175852175360.0000 - val_mse: 175852175360.0000\n",
            "Epoch 2/25\n",
            "1170/1170 [==============================] - 2s 2ms/step - loss: 125405257728.0000 - mse: 125405257728.0000 - val_loss: 178238423040.0000 - val_mse: 178238423040.0000\n",
            "Epoch 3/25\n",
            "1170/1170 [==============================] - 2s 2ms/step - loss: 126022623232.0000 - mse: 126022623232.0000 - val_loss: 178005786624.0000 - val_mse: 178005786624.0000\n",
            "Epoch 4/25\n",
            "1170/1170 [==============================] - 3s 2ms/step - loss: 126597349376.0000 - mse: 126597357568.0000 - val_loss: 180093419520.0000 - val_mse: 180093403136.0000\n",
            "Epoch 5/25\n",
            "1170/1170 [==============================] - 2s 2ms/step - loss: 128352452608.0000 - mse: 128352452608.0000 - val_loss: 197686525952.0000 - val_mse: 197686525952.0000\n",
            "Epoch 6/25\n",
            "1170/1170 [==============================] - 2s 2ms/step - loss: 131468378112.0000 - mse: 131468378112.0000 - val_loss: 197155536896.0000 - val_mse: 197155553280.0000\n",
            "Epoch 7/25\n",
            "1170/1170 [==============================] - 2s 2ms/step - loss: 137447882752.0000 - mse: 137447882752.0000 - val_loss: 187936686080.0000 - val_mse: 187936686080.0000\n",
            "Epoch 8/25\n",
            "1170/1170 [==============================] - 2s 2ms/step - loss: 148049608704.0000 - mse: 148049608704.0000 - val_loss: 184416747520.0000 - val_mse: 184416747520.0000\n",
            "Epoch 9/25\n",
            "1170/1170 [==============================] - 3s 3ms/step - loss: 176409083904.0000 - mse: 176409083904.0000 - val_loss: 180622213120.0000 - val_mse: 180622213120.0000\n",
            "Epoch 10/25\n",
            "1170/1170 [==============================] - 2s 2ms/step - loss: 193086324736.0000 - mse: 193086324736.0000 - val_loss: 175184609280.0000 - val_mse: 175184609280.0000\n",
            "Epoch 11/25\n",
            "1170/1170 [==============================] - 2s 2ms/step - loss: 250327793664.0000 - mse: 250327793664.0000 - val_loss: 256284737536.0000 - val_mse: 256284737536.0000\n",
            "Epoch 12/25\n",
            "1170/1170 [==============================] - 2s 2ms/step - loss: 352061718528.0000 - mse: 352061718528.0000 - val_loss: 187082670080.0000 - val_mse: 187082670080.0000\n",
            "Epoch 13/25\n",
            "1170/1170 [==============================] - 3s 2ms/step - loss: 346678067200.0000 - mse: 346678067200.0000 - val_loss: 218144817152.0000 - val_mse: 218144817152.0000\n",
            "Epoch 14/25\n",
            "1170/1170 [==============================] - 3s 2ms/step - loss: 397823410176.0000 - mse: 397823410176.0000 - val_loss: 561025449984.0000 - val_mse: 561025449984.0000\n",
            "Epoch 15/25\n",
            "1170/1170 [==============================] - 2s 2ms/step - loss: 396440109056.0000 - mse: 396440109056.0000 - val_loss: 259441541120.0000 - val_mse: 259441541120.0000\n",
            "Epoch 16/25\n",
            "1170/1170 [==============================] - 2s 2ms/step - loss: 401867374592.0000 - mse: 401867374592.0000 - val_loss: 290630565888.0000 - val_mse: 290630565888.0000\n",
            "Epoch 17/25\n",
            "1170/1170 [==============================] - 2s 2ms/step - loss: 380331851776.0000 - mse: 380331851776.0000 - val_loss: 1295267921920.0000 - val_mse: 1295267921920.0000\n",
            "Epoch 18/25\n",
            "1170/1170 [==============================] - 2s 2ms/step - loss: 393973432320.0000 - mse: 393973465088.0000 - val_loss: 204942295040.0000 - val_mse: 204942295040.0000\n",
            "Epoch 19/25\n",
            "1170/1170 [==============================] - 3s 3ms/step - loss: 340354990080.0000 - mse: 340354990080.0000 - val_loss: 556899958784.0000 - val_mse: 556899958784.0000\n",
            "Epoch 20/25\n",
            "1170/1170 [==============================] - 3s 2ms/step - loss: 1142332194816.0000 - mse: 1142332194816.0000 - val_loss: 179105267712.0000 - val_mse: 179105267712.0000\n",
            "Epoch 21/25\n",
            "1170/1170 [==============================] - 2s 2ms/step - loss: 275375357952.0000 - mse: 275375423488.0000 - val_loss: 543489687552.0000 - val_mse: 543489687552.0000\n",
            "Epoch 22/25\n",
            "1170/1170 [==============================] - 2s 2ms/step - loss: 366569488384.0000 - mse: 366569488384.0000 - val_loss: 323146383360.0000 - val_mse: 323146383360.0000\n",
            "Epoch 23/25\n",
            "1170/1170 [==============================] - 2s 2ms/step - loss: 395867062272.0000 - mse: 395867062272.0000 - val_loss: 486216892416.0000 - val_mse: 486216892416.0000\n",
            "Epoch 24/25\n",
            "1170/1170 [==============================] - 3s 2ms/step - loss: 342221455360.0000 - mse: 342221455360.0000 - val_loss: 244810858496.0000 - val_mse: 244810858496.0000\n",
            "Epoch 25/25\n",
            "1170/1170 [==============================] - 3s 3ms/step - loss: 395923390464.0000 - mse: 395923390464.0000 - val_loss: 200845737984.0000 - val_mse: 200845737984.0000\n"
          ]
        },
        {
          "output_type": "execute_result",
          "data": {
            "text/plain": [
              "<keras.callbacks.History at 0x7f7890f06260>"
            ]
          },
          "metadata": {},
          "execution_count": 14
        }
      ]
    },
    {
      "cell_type": "markdown",
      "source": [
        "**TESTING MODEL**"
      ],
      "metadata": {
        "id": "h7ukveUeUxrf"
      }
    },
    {
      "cell_type": "code",
      "source": [
        "y_pred=reg.predict(xtest)"
      ],
      "metadata": {
        "colab": {
          "base_uri": "https://localhost:8080/"
        },
        "id": "k_gwvAamUnUi",
        "outputId": "edd34fb1-2ac9-49b9-e20c-2de0aa7bb9ba"
      },
      "execution_count": 16,
      "outputs": [
        {
          "output_type": "stream",
          "name": "stdout",
          "text": [
            "92/92 [==============================] - 0s 1ms/step\n"
          ]
        }
      ]
    },
    {
      "cell_type": "code",
      "source": [
        "y_pred"
      ],
      "metadata": {
        "colab": {
          "base_uri": "https://localhost:8080/"
        },
        "id": "Pc_HPFMnU8Ey",
        "outputId": "f95e7206-8d40-4d2d-d123-2171da054b0e"
      },
      "execution_count": 17,
      "outputs": [
        {
          "output_type": "execute_result",
          "data": {
            "text/plain": [
              "array([[387850.9],\n",
              "       [387777.9],\n",
              "       [407162.9],\n",
              "       ...,\n",
              "       [388347.9],\n",
              "       [387719.9],\n",
              "       [392492.9]], dtype=float32)"
            ]
          },
          "metadata": {},
          "execution_count": 17
        }
      ]
    },
    {
      "cell_type": "markdown",
      "source": [
        "**MODEL IS TESTED**"
      ],
      "metadata": {
        "id": "EyM-x-ZuVPGP"
      }
    }
  ]
}