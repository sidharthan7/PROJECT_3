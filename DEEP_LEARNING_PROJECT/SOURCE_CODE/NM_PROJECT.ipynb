{
 "cells": [
  {
   "cell_type": "code",
   "execution_count": 1,
   "metadata": {
    "collapsed": true,
    "ExecuteTime": {
     "end_time": "2023-05-20T10:53:15.556121Z",
     "start_time": "2023-05-20T10:53:10.126965600Z"
    }
   },
   "outputs": [],
   "source": [
    "from tensorflow.keras.preprocessing.image import ImageDataGenerator"
   ]
  },
  {
   "cell_type": "code",
   "execution_count": 2,
   "outputs": [],
   "source": [
    "train_datagen = ImageDataGenerator(rescale=1./255,shear_range=0.1,zoom_range=0.1,horizontal_flip=True)"
   ],
   "metadata": {
    "collapsed": false,
    "ExecuteTime": {
     "end_time": "2023-05-20T10:53:18.789118400Z",
     "start_time": "2023-05-20T10:53:18.772177600Z"
    }
   }
  },
  {
   "cell_type": "code",
   "execution_count": 3,
   "outputs": [],
   "source": [
    "val_datagen = ImageDataGenerator(rescale=1./255)"
   ],
   "metadata": {
    "collapsed": false,
    "ExecuteTime": {
     "end_time": "2023-05-20T10:53:20.781392400Z",
     "start_time": "2023-05-20T10:53:20.762457Z"
    }
   }
  },
  {
   "cell_type": "code",
   "execution_count": 4,
   "outputs": [
    {
     "name": "stdout",
     "output_type": "stream",
     "text": [
      "Found 2527 images belonging to 6 classes.\n",
      "Found 2527 images belonging to 6 classes.\n"
     ]
    }
   ],
   "source": [
    "train_transform = train_datagen.flow_from_directory(r\"C:\\Users\\babyr\\OneDrive\\Desktop\\Studies\\NM-ENGINEERING-Group-1-main\\Garbage classification\\Garbage classification\",\n",
    "                                           target_size=(128,128),\n",
    "                                           class_mode='categorical',\n",
    "                                           batch_size=64)\n",
    "\n",
    "test_transform = val_datagen.flow_from_directory(r\"C:\\Users\\babyr\\OneDrive\\Desktop\\Studies\\NM-ENGINEERING-Group-1-main\\Garbage classification\\Garbage classification\",\n",
    "                                         target_size=(128,128),\n",
    "                                         class_mode='categorical',\n",
    "                                         batch_size=64)"
   ],
   "metadata": {
    "collapsed": false,
    "ExecuteTime": {
     "end_time": "2023-05-20T10:53:24.573692800Z",
     "start_time": "2023-05-20T10:53:24.072499Z"
    }
   }
  },
  {
   "cell_type": "code",
   "execution_count": 5,
   "outputs": [],
   "source": [
    "from tensorflow.keras.models import Sequential\n",
    "from tensorflow.keras.layers import Convolution2D, MaxPooling2D, Flatten, Dense\n",
    "from tensorflow.keras.optimizers import Adam"
   ],
   "metadata": {
    "collapsed": false,
    "ExecuteTime": {
     "end_time": "2023-05-20T10:53:26.783764300Z",
     "start_time": "2023-05-20T10:53:26.746888Z"
    }
   }
  },
  {
   "cell_type": "code",
   "execution_count": 6,
   "outputs": [],
   "source": [
    "model = Sequential() # Initializing sequential model\n",
    "\n",
    "model.add(Convolution2D(32,(3,3),input_shape=(128,128,3),activation='relu')) # 1st convolution layer\n",
    "model.add(MaxPooling2D(2, 2))\n",
    "\n",
    "model.add(Convolution2D(64,(3,3),padding='same',activation='relu')) # 2nd convolution layer\n",
    "model.add(MaxPooling2D(pool_size=2))\n",
    "\n",
    "model.add(Convolution2D(32,(3,3),activation='relu')) # 3rd convolution layer\n",
    "model.add(MaxPooling2D(2, 2))\n",
    "\n",
    "model.add(Convolution2D(32,(3,3),padding='same',activation='relu')) # 4th convolution layer\n",
    "model.add(MaxPooling2D(pool_size=2))\n",
    "\n",
    "model.add(Flatten()) # Flatten layer\n",
    "\n",
    "model.add(Dense(kernel_initializer='uniform',activation='relu',units=150)) # Hidden layer 1\n",
    "model.add(Dense(kernel_initializer='uniform',activation='relu',units=68)) # Hidden layer 2\n",
    "model.add(Dense(kernel_initializer='uniform',activation='softmax',units=6)) # Output layer"
   ],
   "metadata": {
    "collapsed": false,
    "ExecuteTime": {
     "end_time": "2023-05-20T10:53:30.341246100Z",
     "start_time": "2023-05-20T10:53:29.822955900Z"
    }
   }
  },
  {
   "cell_type": "code",
   "execution_count": 7,
   "outputs": [
    {
     "name": "stdout",
     "output_type": "stream",
     "text": [
      "Model: \"sequential\"\n",
      "_________________________________________________________________\n",
      " Layer (type)                Output Shape              Param #   \n",
      "=================================================================\n",
      " conv2d (Conv2D)             (None, 126, 126, 32)      896       \n",
      "                                                                 \n",
      " max_pooling2d (MaxPooling2D  (None, 63, 63, 32)       0         \n",
      " )                                                               \n",
      "                                                                 \n",
      " conv2d_1 (Conv2D)           (None, 63, 63, 64)        18496     \n",
      "                                                                 \n",
      " max_pooling2d_1 (MaxPooling  (None, 31, 31, 64)       0         \n",
      " 2D)                                                             \n",
      "                                                                 \n",
      " conv2d_2 (Conv2D)           (None, 29, 29, 32)        18464     \n",
      "                                                                 \n",
      " max_pooling2d_2 (MaxPooling  (None, 14, 14, 32)       0         \n",
      " 2D)                                                             \n",
      "                                                                 \n",
      " conv2d_3 (Conv2D)           (None, 14, 14, 32)        9248      \n",
      "                                                                 \n",
      " max_pooling2d_3 (MaxPooling  (None, 7, 7, 32)         0         \n",
      " 2D)                                                             \n",
      "                                                                 \n",
      " flatten (Flatten)           (None, 1568)              0         \n",
      "                                                                 \n",
      " dense (Dense)               (None, 150)               235350    \n",
      "                                                                 \n",
      " dense_1 (Dense)             (None, 68)                10268     \n",
      "                                                                 \n",
      " dense_2 (Dense)             (None, 6)                 414       \n",
      "                                                                 \n",
      "=================================================================\n",
      "Total params: 293,136\n",
      "Trainable params: 293,136\n",
      "Non-trainable params: 0\n",
      "_________________________________________________________________\n"
     ]
    }
   ],
   "source": [
    "model.summary()"
   ],
   "metadata": {
    "collapsed": false,
    "ExecuteTime": {
     "end_time": "2023-05-20T10:53:41.948151400Z",
     "start_time": "2023-05-20T10:53:41.854466600Z"
    }
   }
  },
  {
   "cell_type": "code",
   "execution_count": 8,
   "outputs": [],
   "source": [
    "model.compile(loss='categorical_crossentropy',optimizer='adam',metrics=['acc'])"
   ],
   "metadata": {
    "collapsed": false,
    "ExecuteTime": {
     "end_time": "2023-05-20T10:53:48.050807100Z",
     "start_time": "2023-05-20T10:53:47.990976100Z"
    }
   }
  },
  {
   "cell_type": "code",
   "execution_count": 9,
   "outputs": [
    {
     "name": "stderr",
     "output_type": "stream",
     "text": [
      "C:\\Users\\babyr\\AppData\\Local\\Temp\\ipykernel_16196\\2920236626.py:1: UserWarning: `Model.fit_generator` is deprecated and will be removed in a future version. Please use `Model.fit`, which supports generators.\n",
      "  res = model.fit_generator(train_transform,\n"
     ]
    },
    {
     "name": "stdout",
     "output_type": "stream",
     "text": [
      "Epoch 1/30\n",
      "39/39 [==============================] - 46s 1s/step - loss: 1.7350 - acc: 0.2237 - val_loss: 1.7205 - val_acc: 0.2435\n",
      "Epoch 2/30\n",
      "39/39 [==============================] - 44s 1s/step - loss: 1.7141 - acc: 0.2282 - val_loss: 1.6686 - val_acc: 0.2331\n",
      "Epoch 3/30\n",
      "39/39 [==============================] - 44s 1s/step - loss: 1.6366 - acc: 0.2854 - val_loss: 1.6107 - val_acc: 0.2448\n",
      "Epoch 4/30\n",
      "39/39 [==============================] - 49s 1s/step - loss: 1.5120 - acc: 0.3638 - val_loss: 1.4647 - val_acc: 0.3776\n",
      "Epoch 5/30\n",
      "39/39 [==============================] - 51s 1s/step - loss: 1.4258 - acc: 0.3910 - val_loss: 1.4254 - val_acc: 0.3802\n",
      "Epoch 6/30\n",
      "39/39 [==============================] - 47s 1s/step - loss: 1.3221 - acc: 0.4459 - val_loss: 1.5627 - val_acc: 0.4089\n",
      "Epoch 7/30\n",
      "39/39 [==============================] - 45s 1s/step - loss: 1.2813 - acc: 0.4665 - val_loss: 1.2100 - val_acc: 0.4883\n",
      "Epoch 8/30\n",
      "39/39 [==============================] - 44s 1s/step - loss: 1.2244 - acc: 0.5063 - val_loss: 1.2311 - val_acc: 0.5078\n",
      "Epoch 9/30\n",
      "39/39 [==============================] - 44s 1s/step - loss: 1.1574 - acc: 0.5246 - val_loss: 1.1642 - val_acc: 0.5482\n",
      "Epoch 10/30\n",
      "39/39 [==============================] - 44s 1s/step - loss: 1.1253 - acc: 0.5623 - val_loss: 1.0800 - val_acc: 0.5911\n",
      "Epoch 11/30\n",
      "39/39 [==============================] - 44s 1s/step - loss: 1.0708 - acc: 0.5879 - val_loss: 1.1251 - val_acc: 0.5534\n",
      "Epoch 12/30\n",
      "39/39 [==============================] - 45s 1s/step - loss: 1.0320 - acc: 0.6070 - val_loss: 0.9857 - val_acc: 0.6289\n",
      "Epoch 13/30\n",
      "39/39 [==============================] - 46s 1s/step - loss: 1.0008 - acc: 0.6151 - val_loss: 1.0110 - val_acc: 0.6224\n",
      "Epoch 14/30\n",
      "39/39 [==============================] - 46s 1s/step - loss: 0.9421 - acc: 0.6370 - val_loss: 0.9260 - val_acc: 0.6419\n",
      "Epoch 15/30\n",
      "39/39 [==============================] - 46s 1s/step - loss: 0.8692 - acc: 0.6724 - val_loss: 0.9156 - val_acc: 0.6328\n",
      "Epoch 16/30\n",
      "39/39 [==============================] - 44s 1s/step - loss: 0.8492 - acc: 0.6675 - val_loss: 0.7972 - val_acc: 0.6810\n",
      "Epoch 17/30\n",
      "39/39 [==============================] - 46s 1s/step - loss: 0.8165 - acc: 0.6910 - val_loss: 0.7648 - val_acc: 0.7227\n",
      "Epoch 18/30\n",
      "39/39 [==============================] - 45s 1s/step - loss: 0.7813 - acc: 0.7032 - val_loss: 0.7069 - val_acc: 0.7292\n",
      "Epoch 19/30\n",
      "39/39 [==============================] - 52s 1s/step - loss: 0.7401 - acc: 0.7146 - val_loss: 0.7121 - val_acc: 0.7331\n",
      "Epoch 20/30\n",
      "39/39 [==============================] - 48s 1s/step - loss: 0.7654 - acc: 0.7101 - val_loss: 0.7113 - val_acc: 0.7409\n",
      "Epoch 21/30\n",
      "39/39 [==============================] - 54s 1s/step - loss: 0.6992 - acc: 0.7376 - val_loss: 0.5851 - val_acc: 0.7734\n",
      "Epoch 22/30\n",
      "39/39 [==============================] - 46s 1s/step - loss: 0.6800 - acc: 0.7491 - val_loss: 0.6526 - val_acc: 0.7422\n",
      "Epoch 23/30\n",
      "39/39 [==============================] - 53s 1s/step - loss: 0.6290 - acc: 0.7528 - val_loss: 0.5963 - val_acc: 0.7865\n",
      "Epoch 24/30\n",
      "39/39 [==============================] - 50s 1s/step - loss: 0.5929 - acc: 0.7726 - val_loss: 0.5551 - val_acc: 0.8086\n",
      "Epoch 25/30\n",
      "39/39 [==============================] - 56s 1s/step - loss: 0.5994 - acc: 0.7751 - val_loss: 0.5769 - val_acc: 0.7878\n",
      "Epoch 26/30\n",
      "39/39 [==============================] - 52s 1s/step - loss: 0.5555 - acc: 0.7942 - val_loss: 0.4489 - val_acc: 0.8451\n",
      "Epoch 27/30\n",
      "39/39 [==============================] - 45s 1s/step - loss: 0.5343 - acc: 0.7962 - val_loss: 0.4929 - val_acc: 0.8073\n",
      "Epoch 28/30\n",
      "39/39 [==============================] - 52s 1s/step - loss: 0.5025 - acc: 0.8124 - val_loss: 0.4220 - val_acc: 0.8503\n",
      "Epoch 29/30\n",
      "39/39 [==============================] - 52s 1s/step - loss: 0.4770 - acc: 0.8323 - val_loss: 0.3810 - val_acc: 0.8724\n",
      "Epoch 30/30\n",
      "39/39 [==============================] - 52s 1s/step - loss: 0.4463 - acc: 0.8433 - val_loss: 0.4263 - val_acc: 0.8346\n"
     ]
    }
   ],
   "source": [
    "res = model.fit_generator(train_transform,\n",
    "                    steps_per_epoch=2527//64,\n",
    "                    epochs=30,\n",
    "                    validation_data=test_transform,\n",
    "                    validation_steps=782//64)"
   ],
   "metadata": {
    "collapsed": false,
    "ExecuteTime": {
     "end_time": "2023-05-20T11:17:47.120222500Z",
     "start_time": "2023-05-20T10:53:52.345140300Z"
    }
   }
  },
  {
   "cell_type": "code",
   "execution_count": 10,
   "outputs": [],
   "source": [
    "from tensorflow.keras.preprocessing import image\n",
    "import numpy as np"
   ],
   "metadata": {
    "collapsed": false,
    "ExecuteTime": {
     "end_time": "2023-05-20T11:18:16.540149Z",
     "start_time": "2023-05-20T11:18:16.505267900Z"
    }
   }
  },
  {
   "cell_type": "code",
   "execution_count": 14,
   "outputs": [
    {
     "data": {
      "text/plain": "<PIL.Image.Image image mode=RGB size=128x128>",
      "image/png": "[encoded data removed]"
     },
     "execution_count": 14,
     "metadata": {},
     "output_type": "execute_result"
    }
   ],
   "source": [
    "img = image.load_img(r\"C:\\Users\\babyr\\Downloads\\tincan.jpg\",target_size=(128,128))\n",
    "img"
   ],
   "metadata": {
    "collapsed": false,
    "ExecuteTime": {
     "end_time": "2023-05-20T11:19:19.220399800Z",
     "start_time": "2023-05-20T11:19:19.167290700Z"
    }
   }
  },
  {
   "cell_type": "code",
   "execution_count": 15,
   "outputs": [],
   "source": [
    "x = image.img_to_array(img)"
   ],
   "metadata": {
    "collapsed": false,
    "ExecuteTime": {
     "end_time": "2023-05-20T11:19:21.420810Z",
     "start_time": "2023-05-20T11:19:21.402868900Z"
    }
   }
  },
  {
   "cell_type": "code",
   "execution_count": 16,
   "outputs": [
    {
     "data": {
      "text/plain": "array([[[[255., 255., 255.],\n         [255., 255., 255.],\n         [255., 255., 255.],\n         ...,\n         [255., 255., 255.],\n         [255., 255., 255.],\n         [255., 255., 255.]],\n\n        [[255., 255., 255.],\n         [255., 255., 255.],\n         [255., 255., 255.],\n         ...,\n         [255., 255., 255.],\n         [255., 255., 255.],\n         [255., 255., 255.]],\n\n        [[255., 255., 255.],\n         [255., 255., 255.],\n         [255., 255., 255.],\n         ...,\n         [255., 255., 255.],\n         [255., 255., 255.],\n         [255., 255., 255.]],\n\n        ...,\n\n        [[255., 255., 255.],\n         [255., 255., 255.],\n         [255., 255., 255.],\n         ...,\n         [255., 255., 255.],\n         [255., 255., 255.],\n         [255., 255., 255.]],\n\n        [[255., 255., 255.],\n         [255., 255., 255.],\n         [255., 255., 255.],\n         ...,\n         [255., 255., 255.],\n         [255., 255., 255.],\n         [255., 255., 255.]],\n\n        [[255., 255., 255.],\n         [255., 255., 255.],\n         [255., 255., 255.],\n         ...,\n         [255., 255., 255.],\n         [255., 255., 255.],\n         [255., 255., 255.]]]], dtype=float32)"
     },
     "execution_count": 16,
     "metadata": {},
     "output_type": "execute_result"
    }
   ],
   "source": [
    "x = np.expand_dims(x,axis=0) # expanding Dimensions\n",
    "x"
   ],
   "metadata": {
    "collapsed": false,
    "ExecuteTime": {
     "end_time": "2023-05-20T11:19:24.547659700Z",
     "start_time": "2023-05-20T11:19:24.493842300Z"
    }
   }
  },
  {
   "cell_type": "code",
   "execution_count": 17,
   "outputs": [
    {
     "name": "stdout",
     "output_type": "stream",
     "text": [
      "1/1 [==============================] - 0s 399ms/step\n"
     ]
    }
   ],
   "source": [
    "a = np.argmax(model.predict(x),axis=1)"
   ],
   "metadata": {
    "collapsed": false,
    "ExecuteTime": {
     "end_time": "2023-05-20T11:19:28.745856400Z",
     "start_time": "2023-05-20T11:19:28.111782400Z"
    }
   }
  },
  {
   "cell_type": "code",
   "execution_count": 18,
   "outputs": [
    {
     "data": {
      "text/plain": "'2'"
     },
     "execution_count": 18,
     "metadata": {},
     "output_type": "execute_result"
    }
   ],
   "source": [
    "index = ['0','1','2','3','4','5']\n",
    "result = str(index[a[0]])\n",
    "result"
   ],
   "metadata": {
    "collapsed": false,
    "ExecuteTime": {
     "end_time": "2023-05-20T11:19:33.489161500Z",
     "start_time": "2023-05-20T11:19:33.450292700Z"
    }
   }
  },
  {
   "cell_type": "code",
   "execution_count": 19,
   "outputs": [
    {
     "data": {
      "text/plain": "{'cardboard': 0, 'glass': 1, 'metal': 2, 'paper': 3, 'plastic': 4, 'trash': 5}"
     },
     "execution_count": 19,
     "metadata": {},
     "output_type": "execute_result"
    }
   ],
   "source": [
    "train_transform.class_indices"
   ],
   "metadata": {
    "collapsed": false,
    "ExecuteTime": {
     "end_time": "2023-05-20T11:19:36.336750800Z",
     "start_time": "2023-05-20T11:19:36.306855500Z"
    }
   }
  },
  {
   "cell_type": "code",
   "execution_count": 20,
   "outputs": [
    {
     "data": {
      "text/plain": "'metal'"
     },
     "execution_count": 20,
     "metadata": {},
     "output_type": "execute_result"
    }
   ],
   "source": [
    "index1 = ['cardboard','glass','metal','paper','plastic','trash']\n",
    "result1 = str(index1[a[0]])\n",
    "result1"
   ],
   "metadata": {
    "collapsed": false,
    "ExecuteTime": {
     "end_time": "2023-05-20T11:19:38.877351100Z",
     "start_time": "2023-05-20T11:19:38.846410400Z"
    }
   }
  },
  {
   "cell_type": "code",
   "execution_count": 21,
   "outputs": [],
   "source": [
    "model.save('garbage.h5')"
   ],
   "metadata": {
    "collapsed": false,
    "ExecuteTime": {
     "end_time": "2023-05-20T11:19:41.492148300Z",
     "start_time": "2023-05-20T11:19:41.310505800Z"
    }
   }
  }
 ],
 "metadata": {
  "kernelspec": {
   "display_name": "Python 3",
   "language": "python",
   "name": "python3"
  },
  "language_info": {
   "codemirror_mode": {
    "name": "ipython",
    "version": 2
   },
   "file_extension": ".py",
   "mimetype": "text/x-python",
   "name": "python",
   "nbconvert_exporter": "python",
   "pygments_lexer": "ipython2",
   "version": "2.7.6"
  }
 },
 "nbformat": 4,
 "nbformat_minor": 0
}
